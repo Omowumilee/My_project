{
 "cells": [
  {
   "cell_type": "code",
   "execution_count": 11,
   "id": "4f13a24b",
   "metadata": {},
   "outputs": [
    {
     "name": "stdout",
     "output_type": "stream",
     "text": [
      "Average: 3.0\n",
      "The Toyota Camry is now running.\n",
      "The Toyota Camry has stopped.\n"
     ]
    },
    {
     "ename": "ModuleNotFoundError",
     "evalue": "No module named 'math_operations'",
     "output_type": "error",
     "traceback": [
      "\u001b[1;31m---------------------------------------------------------------------------\u001b[0m",
      "\u001b[1;31mModuleNotFoundError\u001b[0m                       Traceback (most recent call last)",
      "Cell \u001b[1;32mIn[11], line 63\u001b[0m\n\u001b[0;32m     60\u001b[0m \u001b[38;5;28;01mdef\u001b[39;00m \u001b[38;5;21mmultiply\u001b[39m(a, b):\n\u001b[0;32m     61\u001b[0m     \u001b[38;5;28;01mreturn\u001b[39;00m a \u001b[38;5;241m*\u001b[39m b\n\u001b[1;32m---> 63\u001b[0m \u001b[38;5;28;01mimport\u001b[39;00m \u001b[38;5;21;01mmath_operations\u001b[39;00m\n\u001b[0;32m     65\u001b[0m result_add \u001b[38;5;241m=\u001b[39m math_operations\u001b[38;5;241m.\u001b[39madd(\u001b[38;5;241m3\u001b[39m, \u001b[38;5;241m4\u001b[39m)\n\u001b[0;32m     66\u001b[0m result_multiply \u001b[38;5;241m=\u001b[39m math_operations\u001b[38;5;241m.\u001b[39mmultiply(\u001b[38;5;241m2\u001b[39m, \u001b[38;5;241m5\u001b[39m)\n",
      "\u001b[1;31mModuleNotFoundError\u001b[0m: No module named 'math_operations'"
     ]
    }
   ],
   "source": [
    "# Abstraction\n",
    "# Abstraction is a fundamental concept in computer science and programming that involves simplifying complex systems by \n",
    "# focusing on the essential features and ignoring unnecessary details. In Python, abstraction can be achieved through various\n",
    "# mechanisms such as functions, classes, and modules. \n",
    "# Examples:\n",
    "# 1. Abstraction using Functions:\n",
    "# Functions allow you to encapsulate a set of instructions into a single unit. This helps in hiding the implementation \n",
    "# details and exposing only the necessary functionality.\n",
    "\n",
    "\n",
    "def calculate_average(numbers):\n",
    "    total = sum(numbers)\n",
    "    count = len(numbers)\n",
    "    average = total / count\n",
    "    return average\n",
    "\n",
    "# Usage\n",
    "numbers = [1, 2, 3, 4, 5]\n",
    "result = calculate_average(numbers)\n",
    "print(f\"Average: {result}\")\n",
    "\n",
    "# In this example, the calculate_average function abstracts away the details of summing the numbers and calculating the\n",
    "# average. Users of the function only need to know its input and output.\n",
    "\n",
    "# 2. Abstraction using Classes:\n",
    "# Classes provide a way to model and represent real-world entities with attributes and methods. They encapsulate data and \n",
    "# behavior, promoting a higher level of abstraction.\n",
    "\n",
    "\n",
    "class Car:\n",
    "    def __init__(self, make, model):\n",
    "        self.make = make\n",
    "        self.model = model\n",
    "        self.is_running = False\n",
    "\n",
    "    def start(self):\n",
    "        self.is_running = True\n",
    "        print(f\"The {self.make} {self.model} is now running.\")\n",
    "\n",
    "    def stop(self):\n",
    "        self.is_running = False\n",
    "        print(f\"The {self.make} {self.model} has stopped.\")\n",
    "\n",
    "# Usage\n",
    "my_car = Car(\"Toyota\", \"Camry\")\n",
    "my_car.start()\n",
    "my_car.stop()\n",
    "# Here, the Car class abstracts the details of a car, allowing users to interact with it through high-level methods like \n",
    "# start and stop.\n",
    "\n",
    "# 3. Abstraction using Modules:\n",
    "# Modules in Python allow you to organize code into separate files, providing another level of abstraction. You can import \n",
    "# and use functions or classes from modules without knowing the implementation details.\n",
    "\n",
    "# File: math_operations.py\n",
    "\n",
    "def add(a, b):\n",
    "    return a + b\n",
    "\n",
    "def multiply(a, b):\n",
    "    return a * b\n",
    "\n",
    "import math_operations\n",
    "\n",
    "result_add = math_operations.add(3, 4)\n",
    "result_multiply = math_operations.multiply(2, 5)\n",
    "\n",
    "print(f\"Addition result: {result_add}\")\n",
    "print(f\"Multiplication result: {result_multiply}\")\n",
    "\n",
    "# In this example, the math_operations module abstracts the implementation details of addition and multiplication operations.\n",
    "\n",
    "# These examples illustrate how abstraction in Python can be achieved through functions, classes, and modules, allowing \n",
    "# developers to work with high-level concepts without worrying about the underlying complexity."
   ]
  },
  {
   "cell_type": "code",
   "execution_count": null,
   "id": "999417f0",
   "metadata": {},
   "outputs": [],
   "source": []
  },
  {
   "cell_type": "code",
   "execution_count": null,
   "id": "b0422274",
   "metadata": {},
   "outputs": [],
   "source": []
  }
 ],
 "metadata": {
  "kernelspec": {
   "display_name": "Python 3 (ipykernel)",
   "language": "python",
   "name": "python3"
  },
  "language_info": {
   "codemirror_mode": {
    "name": "ipython",
    "version": 3
   },
   "file_extension": ".py",
   "mimetype": "text/x-python",
   "name": "python",
   "nbconvert_exporter": "python",
   "pygments_lexer": "ipython3",
   "version": "3.11.5"
  }
 },
 "nbformat": 4,
 "nbformat_minor": 5
}
