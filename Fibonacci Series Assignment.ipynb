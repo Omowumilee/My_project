{
 "cells": [
  {
   "cell_type": "code",
   "execution_count": null,
   "id": "885c6aa3",
   "metadata": {},
   "outputs": [],
   "source": [
    "# Define fibonacci function\n",
    "\n",
    "def generate_fibonacci(n):\n",
    "    fibonacci_sequence = [0, 1]\n",
    "    while len(fibonacci_sequence) < n:\n",
    "        next_number = fibonacci_sequence[-1] + fibonacci_sequence[-2]\n",
    "        fibonacci_sequence.append(next_number)\n",
    "    return fibonacci_sequence\n",
    "\n",
    "# prompt the user to enter Fibonacci number \n",
    "\n",
    "n = int(input(\"Enter the number of Fibonacci numbers to generate: \"))\n",
    "if n <= 0:\n",
    "    print(\"Please enter a positive integer.\") # only positive number is accepted \n",
    "else:\n",
    "    result = generate_fibonacci(n)\n",
    "    print(\"Fibonacci sequence for the first\", n, \"numbers:\", result)"
   ]
  },
  {
   "cell_type": "code",
   "execution_count": null,
   "id": "407ed124",
   "metadata": {},
   "outputs": [],
   "source": []
  }
 ],
 "metadata": {
  "kernelspec": {
   "display_name": "Python 3 (ipykernel)",
   "language": "python",
   "name": "python3"
  },
  "language_info": {
   "codemirror_mode": {
    "name": "ipython",
    "version": 3
   },
   "file_extension": ".py",
   "mimetype": "text/x-python",
   "name": "python",
   "nbconvert_exporter": "python",
   "pygments_lexer": "ipython3",
   "version": "3.11.5"
  }
 },
 "nbformat": 4,
 "nbformat_minor": 5
}
