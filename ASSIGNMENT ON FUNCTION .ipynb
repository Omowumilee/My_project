{
 "cells": [
  {
   "cell_type": "code",
   "execution_count": 19,
   "id": "d43e4627",
   "metadata": {},
   "outputs": [
    {
     "name": "stdout",
     "output_type": "stream",
     "text": [
      "Our last born is Michael\n",
      "Thank you for choosing blender\n"
     ]
    }
   ],
   "source": [
    "# Solution \n",
    "# 1. Functions with arbitrary keyword arguments \n",
    "# An arbitrary keyword argument, often denoted with double asterisks (**), it provides flexibility by accepting any keyword-value\n",
    "# pair. If you do not know how many keyword arguments that will be passed into your function, add two asterisk: ** before the\n",
    "# parameter name in the function definition. This way the function will receive a dictionary of arguments, and can access the items\n",
    "# accordingly:\n",
    "\n",
    "# Example1:\n",
    "\n",
    "# define a function\n",
    "\n",
    "def my_family(**children):\n",
    "  print(\"Our last born is \" + children[\"name\"])\n",
    "# Calling the function\n",
    "\n",
    "my_family(name = \"Michael\", name1 = \"Eniola\")\n",
    "\n",
    "# Example2:\n",
    "# Define a function\n",
    "\n",
    "def myproduct(**product_name):\n",
    "    print(\"Thank you for choosing\" + \" \" +  product_name[\"name\"] )\n",
    "\n",
    "myproduct(name = \"blender\", name1 = \"oven\", name2 = \"fan\")\n",
    "\n"
   ]
  },
  {
   "cell_type": "code",
   "execution_count": 22,
   "id": "2c7ec523",
   "metadata": {},
   "outputs": [
    {
     "name": "stdout",
     "output_type": "stream",
     "text": [
      "Washingmachine is more profitable than oven\n",
      "Ingryd is the best company\n"
     ]
    }
   ],
   "source": [
    "\n",
    "# 2. Functions with arbitrary arguments, *args\n",
    "\n",
    "# Functions with arbitrary arguments, often referred to as \"variable-length arguments,\" allow you to pass a variable number of \n",
    "# arguments to a function. This is a useful feature in programming when you want to create more flexible and versatile functions \n",
    "# that can handle different numbers of arguments.\n",
    "# If you do not know how many arguments that will be passed into your function, add a * before the parameter name in the function \n",
    "# definition.\n",
    "\n",
    "# This way the function will receive a tuple of arguments, and can access the items accordingly:\n",
    "\n",
    "# Example1:\n",
    "# define a function\n",
    "\n",
    "def my_project(*product):\n",
    "    print(product[3]  + \" \" \"is more profitable than oven\")\n",
    "my_project(\"Fan\", \"Bulb\", \"Gas\", \"Washingmachine\")\n",
    "\n",
    "# Example2:\n",
    "def my_function(*company):\n",
    "    print(company[2] + \" \" 'is the best company')\n",
    "my_function(\"Amazon\", \"Dangote\", \"Ingryd\")\n",
    "[]\n",
    "\n",
    "\n",
    "         \n",
    "\n",
    "    \n",
    "\n",
    "   "
   ]
  },
  {
   "cell_type": "code",
   "execution_count": 25,
   "id": "654b0195",
   "metadata": {},
   "outputs": [
    {
     "name": "stdout",
     "output_type": "stream",
     "text": [
      "Hello, Alice!\n",
      "Hi, Bob!\n",
      "Thanks for your patronage, Wumi.\n",
      "Hey, Bimbo.\n"
     ]
    }
   ],
   "source": [
    "# 3. Functions with default parameter values \n",
    "# Functions with default parameter values allow you to specify default values for some or all of a function's parameters. These\n",
    "# default values are used when a caller does not provide values for those parameters. This feature enhances the flexibility and \n",
    "# usability of functions.\n",
    "# Defining a Function with Default Parameters:\n",
    "# When defining a function, you can assign default values to one or more parameters using the assignment operator (=).\n",
    "# Example1:\n",
    "# Define a function.\n",
    "\n",
    "def greet(name, greeting=\"Hello\"):\n",
    "    print(f\"{greeting}, {name}!\")\n",
    "#Calling the function \n",
    "\n",
    "greet(\"Alice\")  # Uses the default greeting\n",
    "greet(\"Bob\", \"Hi\")  # Uses the provided greeting\n",
    "\n",
    "# Examples2:\n",
    "# Define a function\n",
    "def greet(name, greeting = \"Thanks for your patronage\"):\n",
    "    print(f'{greeting}, {name}.')\n",
    "greet('Wumi')\n",
    "greet('Bimbo', 'Hey')"
   ]
  },
  {
   "cell_type": "code",
   "execution_count": 27,
   "id": "ddae67e0",
   "metadata": {},
   "outputs": [
    {
     "name": "stdout",
     "output_type": "stream",
     "text": [
      "1\n",
      "2\n",
      "3\n",
      "4\n",
      "5\n",
      "[1, 2, 3, 4]\n"
     ]
    }
   ],
   "source": [
    "# 4. Functions with list as an argument \n",
    "# Defining a Function with a List Parameter:\n",
    "\n",
    "# To create a function that takes a list as an argument, you define a parameter for the function and specify the parameter's data\n",
    "# type as \"list\".\n",
    "\n",
    "def process_list(my_list):\n",
    "    for item in my_list:\n",
    "        print(item)\n",
    "# Calling a Function with a List Argument:\n",
    "\n",
    "# You can call the function and pass a list as an argument. The list can contain any type of elements, such as numbers, strings, \n",
    "# or objects:\n",
    "\n",
    "my_data = [1, 2, 3, 4, 5]\n",
    "process_list(my_data)\n",
    "\n",
    "# Modifying Lists Inside a Function:\n",
    "\n",
    "# Functions can also modify lists passed as arguments. Any changes made to the list inside the function will affect the original \n",
    "# list outside the function because lists are mutable in Python.\n",
    "# Example1:\n",
    "\n",
    "def add_element(my_list, new_element):\n",
    "    my_list.append(new_element)\n",
    "\n",
    "data = [1, 2, 3]\n",
    "add_element(data, 4)\n",
    "print(data)  "
   ]
  },
  {
   "cell_type": "code",
   "execution_count": 29,
   "id": "43758370",
   "metadata": {},
   "outputs": [
    {
     "name": "stdout",
     "output_type": "stream",
     "text": [
      "\n",
      "\n",
      "Recursion Example Results\n",
      "1\n",
      "3\n",
      "6\n",
      "10\n",
      "15\n",
      "21\n"
     ]
    },
    {
     "data": {
      "text/plain": [
       "21"
      ]
     },
     "execution_count": 29,
     "metadata": {},
     "output_type": "execute_result"
    }
   ],
   "source": [
    "# Recursion\n",
    "# Recursion means a defined function calling itself. This has the benefit of meaning that \n",
    "# you can loop through data to reach a result. The developer should be very careful with recursion as it can be quite easy to \n",
    "# slip into writing a function which never terminates, or one that uses excess amounts of memory or processor power. However,\n",
    "# when written correctly recursion can be a very efficient and mathematically-elegant approach to programming.\n",
    "\n",
    "# In this example, tri_recursion() is a function that we have defined to call itself (\"recurse\").\n",
    "# Example\n",
    "# Recursion Example\n",
    "\n",
    "def tri_recursion(k):\n",
    "  if(k > 0):\n",
    "    result = k + tri_recursion(k - 1)\n",
    "    print(result)\n",
    "  else:\n",
    "    result = 0\n",
    "  return result\n",
    "\n",
    "print(\"\\n\\nRecursion Example Results\")\n",
    "tri_recursion(6)"
   ]
  },
  {
   "cell_type": "code",
   "execution_count": null,
   "id": "e862e7f8",
   "metadata": {},
   "outputs": [],
   "source": []
  },
  {
   "cell_type": "code",
   "execution_count": null,
   "id": "bf05e661",
   "metadata": {},
   "outputs": [],
   "source": []
  }
 ],
 "metadata": {
  "kernelspec": {
   "display_name": "Python 3 (ipykernel)",
   "language": "python",
   "name": "python3"
  },
  "language_info": {
   "codemirror_mode": {
    "name": "ipython",
    "version": 3
   },
   "file_extension": ".py",
   "mimetype": "text/x-python",
   "name": "python",
   "nbconvert_exporter": "python",
   "pygments_lexer": "ipython3",
   "version": "3.11.5"
  }
 },
 "nbformat": 4,
 "nbformat_minor": 5
}
