{
 "cells": [
  {
   "cell_type": "code",
   "execution_count": 28,
   "id": "8787aee6",
   "metadata": {},
   "outputs": [
    {
     "name": "stdout",
     "output_type": "stream",
     "text": [
      "Woof!\n",
      "Meow!\n",
      "78.5\n",
      "24\n"
     ]
    }
   ],
   "source": [
    "#1.  POLYMORPHISM:The word \"polymorphism\" means \"many forms\", and in programming it refers to methods/functions/operators \n",
    "#    with the same name that can be executed on many objects or classes.Polymorphism allows objects of different classes \n",
    "#    to be treated as objects of a common base class, making it easier to write flexible and reusable code. There are two\n",
    "#    main types of polymorphism in Python: compile-time (or static) polymorphism and runtime (or dynamic) polymorphism\n",
    "\n",
    "# Examples of polymorphism are;\n",
    "\n",
    "#1. Define a class using class as keyword\n",
    "\n",
    "class Animal:\n",
    "    def speak(self):\n",
    "        pass\n",
    "\n",
    "class Dog(Animal):\n",
    "    def speak(self):\n",
    "        return \"Woof!\"\n",
    "\n",
    "class Cat(Animal):\n",
    "    def speak(self):\n",
    "        return \"Meow!\"\n",
    "# Assign class Dog() to a variable \"dog\" and class Cat() to a v ariable \"cat\"\n",
    "\n",
    "dog = Dog()\n",
    "cat = Cat()\n",
    "print(dog.speak())  \n",
    "print(cat.speak())\n",
    "\n",
    "# 2. class Shape:\n",
    "\n",
    "class Shape:\n",
    "    def area(self):\n",
    "        pass\n",
    "\n",
    "class Circle(Shape):\n",
    "    def __init__(self, radius):\n",
    "        self.radius = radius\n",
    "\n",
    "    def area(self):\n",
    "        return 3.14 * self.radius * self.radius\n",
    "\n",
    "class Rectangle(Shape):\n",
    "    def __init__(self, length, width):\n",
    "        self.length = length\n",
    "        self.width = width\n",
    "\n",
    "    def area(self):\n",
    "        return self.length * self.width\n",
    "\n",
    "shapes = [Circle(5), Rectangle(4, 6)]\n",
    "\n",
    "for shape in shapes:\n",
    "    print(shape.area())\n",
    "\n",
    "\n"
   ]
  },
  {
   "cell_type": "code",
   "execution_count": 26,
   "id": "55b89164",
   "metadata": {},
   "outputs": [],
   "source": [
    "# #2.  ABSTRACTION: Abstraction in Python, is a fundamental concept related to object-oriented programming. It refers to the\n",
    "#      process of simplifying complex systems by breaking them into smaller, more manageable parts, while hiding the unnecessary\n",
    "#      details and showing only the relevant information to the user.Abstraction allows you to create modular, maintainable,\n",
    "#      and easy-to-understand code by hiding the internal complexities of a class and providing a clear interface for users of\n",
    "#      that class. It helps in managing the complexity of large software systems by organizing code into well-defined, \n",
    "#      manageable units.\n",
    "\n"
   ]
  },
  {
   "cell_type": "code",
   "execution_count": null,
   "id": "bfd2a689",
   "metadata": {},
   "outputs": [],
   "source": [
    "# #3.  INHERITANCE: Inheritance is a fundamental concept in object-oriented programming (OOP) and is supported in Python. It \n",
    "#      allows you to create a new class (called a subclass or derived class) by inheriting the properties and behaviors \n",
    "#      (attributes and methods) of an existing class (called a superclass or base class). Inheritance promotes code reuse and the\n",
    "#      creation of hierarchical relationships between classes.\n",
    "# Inheritance: it helps  a child to inhert the mtds and the instance vars of it parent class\n",
    "#  parent class\n",
    "class Animal:\n",
    "    def _init_(self, name, age):\n",
    "        self.name = name\n",
    "        self.age = age\n",
    "        \n",
    "# child class\n",
    "class Goat(Animal):\n",
    "    def _init_(self, name, age, color):\n",
    "        # super constructor mtd, to call the parent class\n",
    "        super._init_(name,age)\n",
    "        self.color = color\n",
    "        return f\"(self.name) and (self.name) are (self.age) and they are (self.color) color\"\n",
    "        \n",
    "        class sheep(Animal):\n",
    "            def speak(self):\n",
    "                return f\"(self.name) is (self.color) and is fine\"\n",
    "Goat(Bingo, black)\n",
    "#"
   ]
  },
  {
   "cell_type": "code",
   "execution_count": null,
   "id": "a319b206",
   "metadata": {},
   "outputs": [],
   "source": [
    " #4.  ENCAPSULATION: Encapsulation is one of the four fundamental principles of object-oriented programming (OOP), and it's \n",
    "#      an important concept in Python. It refers to the practice of bundling data (attributes) and the methods (functions) that \n",
    "#      operate on that data into a single unit, known as a class. Encapsulation allows you to hide the internal details of an \n",
    "#      object and restrict access to certain parts of an object's data, providing a clear interface for interacting with the \n",
    "#      object\n",
    "\n",
    "# class Student:\n",
    "#     def __init__(self, name, age):\n",
    "#         self.name = name            # Public attribute\n",
    "#         self._age = age             # Protected attribute\n",
    "#         self.__student_id = 12345   # Private attribute\n",
    "\n",
    "#     def display(self):\n",
    "#         print(f\"Name: {self.name}\")\n",
    "#         print(f\"Age: {self._age}\")\n",
    "#         print(f\"Student ID: {self.__student_id}\")\n",
    "\n",
    "# student = Student(\"Omowumi\", 22)\n",
    "# student.display()\n",
    "\n",
    " "
   ]
  }
 ],
 "metadata": {
  "kernelspec": {
   "display_name": "Python 3 (ipykernel)",
   "language": "python",
   "name": "python3"
  },
  "language_info": {
   "codemirror_mode": {
    "name": "ipython",
    "version": 3
   },
   "file_extension": ".py",
   "mimetype": "text/x-python",
   "name": "python",
   "nbconvert_exporter": "python",
   "pygments_lexer": "ipython3",
   "version": "3.11.5"
  }
 },
 "nbformat": 4,
 "nbformat_minor": 5
}
